{
 "cells": [
  {
   "cell_type": "markdown",
   "metadata": {},
   "source": [
    "# Interpretability with Explainable Boosting Machine (EBM)\n",
    "\n",
    "\n",
    "## Overview of Tutorial\n",
    "This notebook is Part 1 of a four part workshop that demonstrates how to use [InterpretML](interpret.ml) and [Fairlearn](fairlearn.org) (and their integrations with Azure Machine Learning) to understand and analyze models better. The different components of the workshop are as follows:\n",
    "\n",
    "- Part 1: [Interpretability with glassbox models (EBM)](https://github.com/microsoft/ResponsibleAI-Airlift/blob/main/Interpret/EBM/Interpretable%20Classification%20Methods.ipynb) (HERE)\n",
    "- Part 2: [Explain blackbox models with SHAP (and upload explanations to Azure Machine Learning)](https://github.com/microsoft/ResponsibleAI-Airlift/blob/main/Interpret/SHAP/explain-model-SHAP.ipynb)\n",
    "- Part 3: [Run Interpretability on Azure Machine Learning](https://github.com/microsoft/ResponsibleAI-Airlift/blob/main/Interpret/SHAP/explain-model-Azure.ipynb)\n",
    "- Part 4: [Model fairness assessment and unfairness mitigation](https://github.com/microsoft/ResponsibleAI-Airlift/blob/main/Fairness/AI-fairness-Census.ipynb)"
   ]
  },
  {
   "cell_type": "markdown",
   "metadata": {},
   "source": [
    "## Introduction\n",
    "\n",
    "EBM is an interpretable model developed at Microsoft Research. It uses modern machine learning techniques like bagging, gradient boosting, and automatic interaction detection to breathe new life into traditional GAMs (Generalized Additive Models). This makes EBMs as accurate as state-of-the-art techniques like random forests and gradient boosted trees. However, unlike these blackbox models, EBMs produce lossless explanations and are editable by domain experts.\n",
    "\n",
    "\n",
    "This notebook showcases how to train an EBM classification model and explore its explanations.\n",
    "\n",
    "Problem: Adult Census Income (Predict whether income exceeds $50K/yr based on census data)\n",
    "\n",
    "\n",
    "\n",
    "![](./images/EBM.png)\n",
    "\n"
   ]
  },
  {
   "cell_type": "markdown",
   "metadata": {},
   "source": [
    "## What Is Machine Learning Interpretability?\n",
    "Interpretability is the ability to explain why your model made the predictions it did. The Azure Machine Learning service offers various interpretability features to help accomplish this task. These features include:\n",
    "\n",
    "- Feature importance values for both raw and engineered features.\n",
    "- Interpretability on real-world datasets at scale, during training and inference.\n",
    "- Interactive visualizations to aid you in the discovery of patterns in data and explanations at training time.\n",
    "\n",
    "By accurately interpretabiliting your model, it allows you to:\n",
    "\n",
    "- Use the insights for debugging your model.\n",
    "- Validate model behavior matches their objectives.\n",
    "- Check for bias in the model.\n",
    "- Build trust in your customers and stakeholders."
   ]
  },
  {
   "cell_type": "markdown",
   "metadata": {},
   "source": [
    "## Install Required Packages\n",
    "\n",
    "[InterpretML](https://github.com/interpretml) is an open-source package that incorporates state-of-the-art machine learning interpretability techniques under one roof. With this package, you can train interpretable glassbox models and explain blackbox systems. InterpretML helps you understand your model's global behavior, or understand the reasons behind individual predictions."
   ]
  },
  {
   "cell_type": "code",
   "execution_count": null,
   "metadata": {},
   "outputs": [
    {
     "name": "stdout",
     "output_type": "stream",
     "text": [
      "Collecting interpret\n",
      "  Downloading interpret-0.2.0-py3-none-any.whl (1.4 kB)\n",
      "Collecting interpret-core[dash,debug,decisiontree,ebm,lime,linear,notebook,plotly,required,sensitivity,shap,treeinterpreter]>=0.2.0\n",
      "  Downloading interpret_core-0.2.0-py3-none-any.whl (4.9 MB)\n",
      "\u001b[K     |████████████████████████████████| 4.9 MB 2.6 MB/s eta 0:00:01\n",
      "\u001b[?25hCollecting dash-cytoscape>=0.1.1; extra == \"dash\"\n",
      "  Downloading dash_cytoscape-0.2.0.tar.gz (3.6 MB)\n",
      "\u001b[K     |████████████████████████████████| 3.6 MB 3.4 MB/s eta 0:00:01\n",
      "\u001b[?25hCollecting dash>=1.0.0; extra == \"dash\"\n",
      "  Downloading dash-1.13.4.tar.gz (67 kB)\n",
      "\u001b[K     |████████████████████████████████| 67 kB 2.7 MB/s eta 0:00:01\n",
      "\u001b[?25hCollecting dash-table>=4.1.0; extra == \"dash\"\n",
      "  Downloading dash_table-4.8.1.tar.gz (1.8 MB)\n",
      "\u001b[K     |████████████████████████████████| 1.8 MB 3.1 MB/s eta 0:00:01\n",
      "\u001b[?25hRequirement already satisfied: requests>=2.19.0; extra == \"dash\" in /Users/mufy/anaconda/envs/fastai/lib/python3.6/site-packages (from interpret-core[dash,debug,decisiontree,ebm,lime,linear,notebook,plotly,required,sensitivity,shap,treeinterpreter]>=0.2.0->interpret) (2.23.0)\n",
      "Collecting gevent>=1.3.6; extra == \"dash\"\n",
      "  Downloading gevent-20.6.2-cp36-cp36m-macosx_10_15_x86_64.whl (1.7 MB)\n",
      "\u001b[K     |████████████████████████████████| 1.7 MB 2.8 MB/s eta 0:00:01\n",
      "\u001b[?25hRequirement already satisfied: psutil>=5.6.2; extra == \"debug\" in /Users/mufy/anaconda/envs/fastai/lib/python3.6/site-packages (from interpret-core[dash,debug,decisiontree,ebm,lime,linear,notebook,plotly,required,sensitivity,shap,treeinterpreter]>=0.2.0->interpret) (5.7.0)\n",
      "Requirement already satisfied: joblib>=0.11; extra == \"decisiontree\" in /Users/mufy/anaconda/envs/fastai/lib/python3.6/site-packages (from interpret-core[dash,debug,decisiontree,ebm,lime,linear,notebook,plotly,required,sensitivity,shap,treeinterpreter]>=0.2.0->interpret) (0.14.1)\n",
      "Collecting lime>=0.1.1.33; extra == \"lime\"\n",
      "  Downloading lime-0.2.0.1.tar.gz (275 kB)\n",
      "\u001b[K     |████████████████████████████████| 275 kB 2.9 MB/s eta 0:00:01\n",
      "\u001b[?25hRequirement already satisfied: ipykernel>=5.1.0; extra == \"notebook\" in /Users/mufy/anaconda/envs/fastai/lib/python3.6/site-packages (from interpret-core[dash,debug,decisiontree,ebm,lime,linear,notebook,plotly,required,sensitivity,shap,treeinterpreter]>=0.2.0->interpret) (5.1.4)\n",
      "Requirement already satisfied: ipython>=7.4.0; extra == \"notebook\" in /Users/mufy/anaconda/envs/fastai/lib/python3.6/site-packages (from interpret-core[dash,debug,decisiontree,ebm,lime,linear,notebook,plotly,required,sensitivity,shap,treeinterpreter]>=0.2.0->interpret) (7.13.0)\n",
      "Collecting plotly>=3.8.1; extra == \"plotly\"\n",
      "  Downloading plotly-4.9.0-py2.py3-none-any.whl (12.9 MB)\n",
      "\u001b[K     |████████████████████████████████| 12.9 MB 2.9 MB/s eta 0:00:01\n",
      "\u001b[?25hRequirement already satisfied: scipy>=0.18.1; extra == \"required\" in /Users/mufy/anaconda/envs/fastai/lib/python3.6/site-packages (from interpret-core[dash,debug,decisiontree,ebm,lime,linear,notebook,plotly,required,sensitivity,shap,treeinterpreter]>=0.2.0->interpret) (1.1.0)\n",
      "Requirement already satisfied: numpy>=1.11.1; extra == \"required\" in /Users/mufy/anaconda/envs/fastai/lib/python3.6/site-packages (from interpret-core[dash,debug,decisiontree,ebm,lime,linear,notebook,plotly,required,sensitivity,shap,treeinterpreter]>=0.2.0->interpret) (1.18.5)\n",
      "Requirement already satisfied: scikit-learn>=0.18.1; extra == \"required\" in /Users/mufy/anaconda/envs/fastai/lib/python3.6/site-packages (from interpret-core[dash,debug,decisiontree,ebm,lime,linear,notebook,plotly,required,sensitivity,shap,treeinterpreter]>=0.2.0->interpret) (0.23.1)\n",
      "Requirement already satisfied: pandas>=0.19.2; extra == \"required\" in /Users/mufy/anaconda/envs/fastai/lib/python3.6/site-packages (from interpret-core[dash,debug,decisiontree,ebm,lime,linear,notebook,plotly,required,sensitivity,shap,treeinterpreter]>=0.2.0->interpret) (0.23.4)\n",
      "Collecting SALib>=1.3.3; extra == \"sensitivity\"\n",
      "  Downloading SALib-1.3.11.tar.gz (856 kB)\n",
      "\u001b[K     |████████████████████████████████| 856 kB 1.1 MB/s eta 0:00:01\n",
      "\u001b[?25hRequirement already satisfied: dill>=0.2.5; extra == \"shap\" in /Users/mufy/anaconda/envs/fastai/lib/python3.6/site-packages (from interpret-core[dash,debug,decisiontree,ebm,lime,linear,notebook,plotly,required,sensitivity,shap,treeinterpreter]>=0.2.0->interpret) (0.3.1.1)\n",
      "Requirement already satisfied: shap>=0.28.5; extra == \"shap\" in /Users/mufy/anaconda/envs/fastai/lib/python3.6/site-packages (from interpret-core[dash,debug,decisiontree,ebm,lime,linear,notebook,plotly,required,sensitivity,shap,treeinterpreter]>=0.2.0->interpret) (0.29.3)\n",
      "Collecting treeinterpreter>=0.2.2; extra == \"treeinterpreter\"\n",
      "  Downloading treeinterpreter-0.2.2-py2.py3-none-any.whl (6.2 kB)\n",
      "Requirement already satisfied: Flask>=1.0.2 in /Users/mufy/anaconda/envs/fastai/lib/python3.6/site-packages (from dash>=1.0.0; extra == \"dash\"->interpret-core[dash,debug,decisiontree,ebm,lime,linear,notebook,plotly,required,sensitivity,shap,treeinterpreter]>=0.2.0->interpret) (1.0.3)\n",
      "Collecting flask-compress\n",
      "  Downloading Flask-Compress-1.5.0.tar.gz (6.5 kB)\n",
      "Collecting dash_renderer==1.5.1\n",
      "  Downloading dash_renderer-1.5.1.tar.gz (1.2 MB)\n",
      "\u001b[K     |████████████████████████████████| 1.2 MB 1.1 MB/s eta 0:00:01\n",
      "\u001b[?25hCollecting dash-core-components==1.10.1\n",
      "  Downloading dash_core_components-1.10.1.tar.gz (3.4 MB)\n",
      "\u001b[K     |████████████████████████████████| 3.4 MB 3.3 MB/s eta 0:00:01\n",
      "\u001b[?25hCollecting dash-html-components==1.0.3\n",
      "  Downloading dash_html_components-1.0.3.tar.gz (187 kB)\n",
      "\u001b[K     |████████████████████████████████| 187 kB 3.1 MB/s eta 0:00:01\n",
      "\u001b[?25hRequirement already satisfied: future in /Users/mufy/anaconda/envs/fastai/lib/python3.6/site-packages (from dash>=1.0.0; extra == \"dash\"->interpret-core[dash,debug,decisiontree,ebm,lime,linear,notebook,plotly,required,sensitivity,shap,treeinterpreter]>=0.2.0->interpret) (0.18.2)\n",
      "Requirement already satisfied: chardet<4,>=3.0.2 in /Users/mufy/anaconda/envs/fastai/lib/python3.6/site-packages (from requests>=2.19.0; extra == \"dash\"->interpret-core[dash,debug,decisiontree,ebm,lime,linear,notebook,plotly,required,sensitivity,shap,treeinterpreter]>=0.2.0->interpret) (3.0.4)\n",
      "Requirement already satisfied: urllib3!=1.25.0,!=1.25.1,<1.26,>=1.21.1 in /Users/mufy/anaconda/envs/fastai/lib/python3.6/site-packages (from requests>=2.19.0; extra == \"dash\"->interpret-core[dash,debug,decisiontree,ebm,lime,linear,notebook,plotly,required,sensitivity,shap,treeinterpreter]>=0.2.0->interpret) (1.25.8)\n",
      "Requirement already satisfied: certifi>=2017.4.17 in /Users/mufy/anaconda/envs/fastai/lib/python3.6/site-packages (from requests>=2.19.0; extra == \"dash\"->interpret-core[dash,debug,decisiontree,ebm,lime,linear,notebook,plotly,required,sensitivity,shap,treeinterpreter]>=0.2.0->interpret) (2020.6.20)\n",
      "Requirement already satisfied: idna<3,>=2.5 in /Users/mufy/anaconda/envs/fastai/lib/python3.6/site-packages (from requests>=2.19.0; extra == \"dash\"->interpret-core[dash,debug,decisiontree,ebm,lime,linear,notebook,plotly,required,sensitivity,shap,treeinterpreter]>=0.2.0->interpret) (2.9)\n",
      "Collecting zope.event\n",
      "  Downloading zope.event-4.4-py2.py3-none-any.whl (7.6 kB)\n",
      "Collecting zope.interface\n",
      "  Downloading zope.interface-5.1.0-cp36-cp36m-macosx_10_6_intel.whl (203 kB)\n",
      "\u001b[K     |████████████████████████████████| 203 kB 1.2 MB/s eta 0:00:01\n",
      "\u001b[?25hRequirement already satisfied: setuptools in /Users/mufy/anaconda/envs/fastai/lib/python3.6/site-packages (from gevent>=1.3.6; extra == \"dash\"->interpret-core[dash,debug,decisiontree,ebm,lime,linear,notebook,plotly,required,sensitivity,shap,treeinterpreter]>=0.2.0->interpret) (46.4.0)\n",
      "Collecting greenlet>=0.4.16; platform_python_implementation == \"CPython\"\n",
      "  Downloading greenlet-0.4.16.tar.gz (60 kB)\n",
      "\u001b[K     |████████████████████████████████| 60 kB 1.9 MB/s eta 0:00:01\n",
      "\u001b[?25hRequirement already satisfied: matplotlib in /Users/mufy/anaconda/envs/fastai/lib/python3.6/site-packages (from lime>=0.1.1.33; extra == \"lime\"->interpret-core[dash,debug,decisiontree,ebm,lime,linear,notebook,plotly,required,sensitivity,shap,treeinterpreter]>=0.2.0->interpret) (3.2.0)\n",
      "Requirement already satisfied: tqdm in /Users/mufy/anaconda/envs/fastai/lib/python3.6/site-packages (from lime>=0.1.1.33; extra == \"lime\"->interpret-core[dash,debug,decisiontree,ebm,lime,linear,notebook,plotly,required,sensitivity,shap,treeinterpreter]>=0.2.0->interpret) (4.43.0)\n"
     ]
    },
    {
     "name": "stdout",
     "output_type": "stream",
     "text": [
      "Requirement already satisfied: scikit-image>=0.12 in /Users/mufy/anaconda/envs/fastai/lib/python3.6/site-packages (from lime>=0.1.1.33; extra == \"lime\"->interpret-core[dash,debug,decisiontree,ebm,lime,linear,notebook,plotly,required,sensitivity,shap,treeinterpreter]>=0.2.0->interpret) (0.16.2)\n",
      "Requirement already satisfied: appnope; platform_system == \"Darwin\" in /Users/mufy/anaconda/envs/fastai/lib/python3.6/site-packages (from ipykernel>=5.1.0; extra == \"notebook\"->interpret-core[dash,debug,decisiontree,ebm,lime,linear,notebook,plotly,required,sensitivity,shap,treeinterpreter]>=0.2.0->interpret) (0.1.0)\n",
      "Requirement already satisfied: tornado>=4.2 in /Users/mufy/anaconda/envs/fastai/lib/python3.6/site-packages (from ipykernel>=5.1.0; extra == \"notebook\"->interpret-core[dash,debug,decisiontree,ebm,lime,linear,notebook,plotly,required,sensitivity,shap,treeinterpreter]>=0.2.0->interpret) (6.0.4)\n",
      "Requirement already satisfied: jupyter-client in /Users/mufy/anaconda/envs/fastai/lib/python3.6/site-packages (from ipykernel>=5.1.0; extra == \"notebook\"->interpret-core[dash,debug,decisiontree,ebm,lime,linear,notebook,plotly,required,sensitivity,shap,treeinterpreter]>=0.2.0->interpret) (6.1.2)\n",
      "Requirement already satisfied: traitlets>=4.1.0 in /Users/mufy/anaconda/envs/fastai/lib/python3.6/site-packages (from ipykernel>=5.1.0; extra == \"notebook\"->interpret-core[dash,debug,decisiontree,ebm,lime,linear,notebook,plotly,required,sensitivity,shap,treeinterpreter]>=0.2.0->interpret) (4.3.3)\n",
      "Requirement already satisfied: backcall in /Users/mufy/anaconda/envs/fastai/lib/python3.6/site-packages (from ipython>=7.4.0; extra == \"notebook\"->interpret-core[dash,debug,decisiontree,ebm,lime,linear,notebook,plotly,required,sensitivity,shap,treeinterpreter]>=0.2.0->interpret) (0.1.0)\n",
      "Requirement already satisfied: pygments in /Users/mufy/anaconda/envs/fastai/lib/python3.6/site-packages (from ipython>=7.4.0; extra == \"notebook\"->interpret-core[dash,debug,decisiontree,ebm,lime,linear,notebook,plotly,required,sensitivity,shap,treeinterpreter]>=0.2.0->interpret) (2.6.1)\n",
      "Requirement already satisfied: prompt-toolkit!=3.0.0,!=3.0.1,<3.1.0,>=2.0.0 in /Users/mufy/anaconda/envs/fastai/lib/python3.6/site-packages (from ipython>=7.4.0; extra == \"notebook\"->interpret-core[dash,debug,decisiontree,ebm,lime,linear,notebook,plotly,required,sensitivity,shap,treeinterpreter]>=0.2.0->interpret) (3.0.4)\n",
      "Requirement already satisfied: pickleshare in /Users/mufy/anaconda/envs/fastai/lib/python3.6/site-packages (from ipython>=7.4.0; extra == \"notebook\"->interpret-core[dash,debug,decisiontree,ebm,lime,linear,notebook,plotly,required,sensitivity,shap,treeinterpreter]>=0.2.0->interpret) (0.7.5)\n",
      "Requirement already satisfied: jedi>=0.10 in /Users/mufy/anaconda/envs/fastai/lib/python3.6/site-packages (from ipython>=7.4.0; extra == \"notebook\"->interpret-core[dash,debug,decisiontree,ebm,lime,linear,notebook,plotly,required,sensitivity,shap,treeinterpreter]>=0.2.0->interpret) (0.16.0)\n",
      "Requirement already satisfied: pexpect; sys_platform != \"win32\" in /Users/mufy/anaconda/envs/fastai/lib/python3.6/site-packages (from ipython>=7.4.0; extra == \"notebook\"->interpret-core[dash,debug,decisiontree,ebm,lime,linear,notebook,plotly,required,sensitivity,shap,treeinterpreter]>=0.2.0->interpret) (4.8.0)\n",
      "Requirement already satisfied: decorator in /Users/mufy/anaconda/envs/fastai/lib/python3.6/site-packages (from ipython>=7.4.0; extra == \"notebook\"->interpret-core[dash,debug,decisiontree,ebm,lime,linear,notebook,plotly,required,sensitivity,shap,treeinterpreter]>=0.2.0->interpret) (4.4.2)\n",
      "Collecting retrying>=1.3.3\n",
      "  Downloading retrying-1.3.3.tar.gz (10 kB)\n",
      "Requirement already satisfied: six in /Users/mufy/anaconda/envs/fastai/lib/python3.6/site-packages (from plotly>=3.8.1; extra == \"plotly\"->interpret-core[dash,debug,decisiontree,ebm,lime,linear,notebook,plotly,required,sensitivity,shap,treeinterpreter]>=0.2.0->interpret) (1.14.0)\n",
      "Requirement already satisfied: threadpoolctl>=2.0.0 in /Users/mufy/anaconda/envs/fastai/lib/python3.6/site-packages (from scikit-learn>=0.18.1; extra == \"required\"->interpret-core[dash,debug,decisiontree,ebm,lime,linear,notebook,plotly,required,sensitivity,shap,treeinterpreter]>=0.2.0->interpret) (2.1.0)\n",
      "Requirement already satisfied: python-dateutil>=2.5.0 in /Users/mufy/anaconda/envs/fastai/lib/python3.6/site-packages (from pandas>=0.19.2; extra == \"required\"->interpret-core[dash,debug,decisiontree,ebm,lime,linear,notebook,plotly,required,sensitivity,shap,treeinterpreter]>=0.2.0->interpret) (2.8.1)\n",
      "Requirement already satisfied: pytz>=2011k in /Users/mufy/anaconda/envs/fastai/lib/python3.6/site-packages (from pandas>=0.19.2; extra == \"required\"->interpret-core[dash,debug,decisiontree,ebm,lime,linear,notebook,plotly,required,sensitivity,shap,treeinterpreter]>=0.2.0->interpret) (2019.3)\n",
      "Requirement already satisfied: Jinja2>=2.10 in /Users/mufy/anaconda/envs/fastai/lib/python3.6/site-packages (from Flask>=1.0.2->dash>=1.0.0; extra == \"dash\"->interpret-core[dash,debug,decisiontree,ebm,lime,linear,notebook,plotly,required,sensitivity,shap,treeinterpreter]>=0.2.0->interpret) (2.11.2)\n",
      "Requirement already satisfied: Werkzeug>=0.14 in /Users/mufy/anaconda/envs/fastai/lib/python3.6/site-packages (from Flask>=1.0.2->dash>=1.0.0; extra == \"dash\"->interpret-core[dash,debug,decisiontree,ebm,lime,linear,notebook,plotly,required,sensitivity,shap,treeinterpreter]>=0.2.0->interpret) (0.16.1)\n",
      "Requirement already satisfied: itsdangerous>=0.24 in /Users/mufy/anaconda/envs/fastai/lib/python3.6/site-packages (from Flask>=1.0.2->dash>=1.0.0; extra == \"dash\"->interpret-core[dash,debug,decisiontree,ebm,lime,linear,notebook,plotly,required,sensitivity,shap,treeinterpreter]>=0.2.0->interpret) (1.1.0)\n",
      "Requirement already satisfied: click>=5.1 in /Users/mufy/anaconda/envs/fastai/lib/python3.6/site-packages (from Flask>=1.0.2->dash>=1.0.0; extra == \"dash\"->interpret-core[dash,debug,decisiontree,ebm,lime,linear,notebook,plotly,required,sensitivity,shap,treeinterpreter]>=0.2.0->interpret) (7.1.2)\n",
      "Collecting brotli\n",
      "  Downloading Brotli-1.0.7-cp36-cp36m-macosx_10_6_intel.macosx_10_9_intel.macosx_10_9_x86_64.macosx_10_10_intel.macosx_10_10_x86_64.whl (796 kB)\n",
      "\u001b[K     |████████████████████████████████| 796 kB 3.0 MB/s eta 0:00:01\n",
      "\u001b[?25hRequirement already satisfied: cycler>=0.10 in /Users/mufy/anaconda/envs/fastai/lib/python3.6/site-packages (from matplotlib->lime>=0.1.1.33; extra == \"lime\"->interpret-core[dash,debug,decisiontree,ebm,lime,linear,notebook,plotly,required,sensitivity,shap,treeinterpreter]>=0.2.0->interpret) (0.10.0)\n",
      "Requirement already satisfied: pyparsing!=2.0.4,!=2.1.2,!=2.1.6,>=2.0.1 in /Users/mufy/anaconda/envs/fastai/lib/python3.6/site-packages (from matplotlib->lime>=0.1.1.33; extra == \"lime\"->interpret-core[dash,debug,decisiontree,ebm,lime,linear,notebook,plotly,required,sensitivity,shap,treeinterpreter]>=0.2.0->interpret) (2.4.6)\n",
      "Requirement already satisfied: kiwisolver>=1.0.1 in /Users/mufy/anaconda/envs/fastai/lib/python3.6/site-packages (from matplotlib->lime>=0.1.1.33; extra == \"lime\"->interpret-core[dash,debug,decisiontree,ebm,lime,linear,notebook,plotly,required,sensitivity,shap,treeinterpreter]>=0.2.0->interpret) (1.1.0)\n",
      "Requirement already satisfied: pillow>=4.3.0 in /Users/mufy/anaconda/envs/fastai/lib/python3.6/site-packages (from scikit-image>=0.12->lime>=0.1.1.33; extra == \"lime\"->interpret-core[dash,debug,decisiontree,ebm,lime,linear,notebook,plotly,required,sensitivity,shap,treeinterpreter]>=0.2.0->interpret) (7.0.0)\n",
      "Requirement already satisfied: PyWavelets>=0.4.0 in /Users/mufy/anaconda/envs/fastai/lib/python3.6/site-packages (from scikit-image>=0.12->lime>=0.1.1.33; extra == \"lime\"->interpret-core[dash,debug,decisiontree,ebm,lime,linear,notebook,plotly,required,sensitivity,shap,treeinterpreter]>=0.2.0->interpret) (1.1.1)\n",
      "Requirement already satisfied: imageio>=2.3.0 in /Users/mufy/anaconda/envs/fastai/lib/python3.6/site-packages (from scikit-image>=0.12->lime>=0.1.1.33; extra == \"lime\"->interpret-core[dash,debug,decisiontree,ebm,lime,linear,notebook,plotly,required,sensitivity,shap,treeinterpreter]>=0.2.0->interpret) (2.8.0)\n",
      "Requirement already satisfied: networkx>=2.0 in /Users/mufy/anaconda/envs/fastai/lib/python3.6/site-packages (from scikit-image>=0.12->lime>=0.1.1.33; extra == \"lime\"->interpret-core[dash,debug,decisiontree,ebm,lime,linear,notebook,plotly,required,sensitivity,shap,treeinterpreter]>=0.2.0->interpret) (2.4)\n"
     ]
    },
    {
     "name": "stdout",
     "output_type": "stream",
     "text": [
      "Requirement already satisfied: jupyter-core>=4.6.0 in /Users/mufy/anaconda/envs/fastai/lib/python3.6/site-packages (from jupyter-client->ipykernel>=5.1.0; extra == \"notebook\"->interpret-core[dash,debug,decisiontree,ebm,lime,linear,notebook,plotly,required,sensitivity,shap,treeinterpreter]>=0.2.0->interpret) (4.6.3)\n",
      "Requirement already satisfied: pyzmq>=13 in /Users/mufy/anaconda/envs/fastai/lib/python3.6/site-packages (from jupyter-client->ipykernel>=5.1.0; extra == \"notebook\"->interpret-core[dash,debug,decisiontree,ebm,lime,linear,notebook,plotly,required,sensitivity,shap,treeinterpreter]>=0.2.0->interpret) (18.1.1)\n",
      "Requirement already satisfied: ipython-genutils in /Users/mufy/anaconda/envs/fastai/lib/python3.6/site-packages (from traitlets>=4.1.0->ipykernel>=5.1.0; extra == \"notebook\"->interpret-core[dash,debug,decisiontree,ebm,lime,linear,notebook,plotly,required,sensitivity,shap,treeinterpreter]>=0.2.0->interpret) (0.2.0)\n",
      "Requirement already satisfied: wcwidth in /Users/mufy/anaconda/envs/fastai/lib/python3.6/site-packages (from prompt-toolkit!=3.0.0,!=3.0.1,<3.1.0,>=2.0.0->ipython>=7.4.0; extra == \"notebook\"->interpret-core[dash,debug,decisiontree,ebm,lime,linear,notebook,plotly,required,sensitivity,shap,treeinterpreter]>=0.2.0->interpret) (0.1.9)\n",
      "Requirement already satisfied: parso>=0.5.2 in /Users/mufy/anaconda/envs/fastai/lib/python3.6/site-packages (from jedi>=0.10->ipython>=7.4.0; extra == \"notebook\"->interpret-core[dash,debug,decisiontree,ebm,lime,linear,notebook,plotly,required,sensitivity,shap,treeinterpreter]>=0.2.0->interpret) (0.6.2)\n",
      "Requirement already satisfied: ptyprocess>=0.5 in /Users/mufy/anaconda/envs/fastai/lib/python3.6/site-packages (from pexpect; sys_platform != \"win32\"->ipython>=7.4.0; extra == \"notebook\"->interpret-core[dash,debug,decisiontree,ebm,lime,linear,notebook,plotly,required,sensitivity,shap,treeinterpreter]>=0.2.0->interpret) (0.6.0)\n",
      "Requirement already satisfied: MarkupSafe>=0.23 in /Users/mufy/anaconda/envs/fastai/lib/python3.6/site-packages (from Jinja2>=2.10->Flask>=1.0.2->dash>=1.0.0; extra == \"dash\"->interpret-core[dash,debug,decisiontree,ebm,lime,linear,notebook,plotly,required,sensitivity,shap,treeinterpreter]>=0.2.0->interpret) (1.1.1)\n",
      "Building wheels for collected packages: dash-cytoscape, dash, dash-table, lime, SALib, flask-compress, dash-renderer, dash-core-components, dash-html-components, greenlet, retrying\n",
      "  Building wheel for dash-cytoscape (setup.py) ... \u001b[?25ldone\n",
      "\u001b[?25h  Created wheel for dash-cytoscape: filename=dash_cytoscape-0.2.0-py3-none-any.whl size=3610792 sha256=907a0b9622f46deae0575a027a1d0bc6c7028022e75871a057b20e9382043ab9\n",
      "  Stored in directory: /Users/mufy/Library/Caches/pip/wheels/f5/0b/8d/fa16743fc3576fb047c44b442a593f0f8099f6f8ac61f98c2b\n",
      "  Building wheel for dash (setup.py) ... \u001b[?25ldone\n",
      "\u001b[?25h  Created wheel for dash: filename=dash-1.13.4-py3-none-any.whl size=77555 sha256=1c66e4544a40ddbeb78dc4d14b3bd8efb022afbda1f66bee3281250f03ad3756\n",
      "  Stored in directory: /Users/mufy/Library/Caches/pip/wheels/12/5b/70/3fee536cce0988a7aa1e7f25fa3d56ddbad0f566fe9f29d88f\n",
      "  Building wheel for dash-table (setup.py) ... \u001b[?25ldone\n",
      "\u001b[?25h  Created wheel for dash-table: filename=dash_table-4.8.1-py3-none-any.whl size=1779208 sha256=b45f6f68861536d9e9853eea4212e769e05726299d49b5f2982dbad03a376b3b\n",
      "  Stored in directory: /Users/mufy/Library/Caches/pip/wheels/17/8f/2c/d5f9223645d6263664a64041dae99d3a8d3d21001005ab6a1b\n",
      "  Building wheel for lime (setup.py) ... \u001b[?25ldone\n",
      "\u001b[?25h  Created wheel for lime: filename=lime-0.2.0.1-py3-none-any.whl size=283809 sha256=e6c4a6d8e4de4dc781e210a505be9b1c90204b568dfbf4142f127d402b503d56\n",
      "  Stored in directory: /Users/mufy/Library/Caches/pip/wheels/52/f4/97/327dcd53a8b5e3a9d97111dccbdb4f51a7b644af686dac5088\n",
      "  Building wheel for SALib (setup.py) ... \u001b[?25ldone\n",
      "\u001b[?25h  Created wheel for SALib: filename=SALib-1.3.11-py2.py3-none-any.whl size=731640 sha256=989a1bc596090863cd575f39912b7e1a2c880f997da988dc2e7f94a9cd7593af\n",
      "  Stored in directory: /Users/mufy/Library/Caches/pip/wheels/a8/22/32/d1e414d15571460dc55cedc55c7edc2dd322b7f990a4ea4a3c\n"
     ]
    }
   ],
   "source": [
    "%pip install interpret"
   ]
  },
  {
   "cell_type": "markdown",
   "metadata": {},
   "source": [
    "After installing packages, you must close and reopen the notebook as well as restarting the kernel."
   ]
  },
  {
   "cell_type": "markdown",
   "metadata": {},
   "source": [
    "## Setup a classification experiment"
   ]
  },
  {
   "cell_type": "code",
   "execution_count": null,
   "metadata": {},
   "outputs": [],
   "source": [
    "import pandas as pd\n",
    "from sklearn.model_selection import train_test_split\n",
    "\n",
    "df = pd.read_csv(\n",
    "    \"https://archive.ics.uci.edu/ml/machine-learning-databases/adult/adult.data\",\n",
    "    header=None)\n",
    "df.columns = [\n",
    "    \"Age\", \"WorkClass\", \"fnlwgt\", \"Education\", \"EducationNum\",\n",
    "    \"MaritalStatus\", \"Occupation\", \"Relationship\", \"Race\", \"Gender\",\n",
    "    \"CapitalGain\", \"CapitalLoss\", \"HoursPerWeek\", \"NativeCountry\", \"Income\"\n",
    "]\n",
    "# df = df.sample(frac=0.1, random_state=1)\n",
    "train_cols = df.columns[0:-1]\n",
    "label = df.columns[-1]\n",
    "X = df[train_cols]\n",
    "y = df[label].apply(lambda x: 0 if x == \" <=50K\" else 1) #Turning response into 0 and 1\n",
    "\n",
    "seed = 1\n",
    "X_train, X_test, y_train, y_test = train_test_split(X, y, test_size=0.20, random_state=seed)"
   ]
  },
  {
   "cell_type": "markdown",
   "metadata": {},
   "source": [
    "## Explore the dataset"
   ]
  },
  {
   "cell_type": "code",
   "execution_count": null,
   "metadata": {},
   "outputs": [],
   "source": [
    "from interpret import show\n",
    "from interpret.data import ClassHistogram\n",
    "\n",
    "hist = ClassHistogram().explain_data(X_train, y_train, name = 'Train Data')\n",
    "show(hist)"
   ]
  },
  {
   "cell_type": "markdown",
   "metadata": {},
   "source": [
    "## Train the Explainable Boosting Machine (EBM)"
   ]
  },
  {
   "cell_type": "code",
   "execution_count": null,
   "metadata": {},
   "outputs": [],
   "source": [
    "from interpret.glassbox import ExplainableBoostingClassifier, LogisticRegression, ClassificationTree, DecisionListClassifier\n",
    "\n",
    "ebm = ExplainableBoostingClassifier(random_state=seed)\n",
    "ebm.fit(X_train, y_train)   #Works on dataframes and numpy arrays"
   ]
  },
  {
   "cell_type": "markdown",
   "metadata": {},
   "source": [
    "## Global Explanations: What the model learned overall"
   ]
  },
  {
   "cell_type": "code",
   "execution_count": null,
   "metadata": {},
   "outputs": [],
   "source": [
    "ebm_global = ebm.explain_global(name='EBM')\n",
    "show(ebm_global)"
   ]
  },
  {
   "cell_type": "markdown",
   "metadata": {},
   "source": [
    "## Local Explanations: How an individual prediction was made"
   ]
  },
  {
   "cell_type": "code",
   "execution_count": null,
   "metadata": {},
   "outputs": [],
   "source": [
    "ebm_local = ebm.explain_local(X_test[:5], y_test[:5], name='EBM')\n",
    "show(ebm_local)"
   ]
  },
  {
   "cell_type": "markdown",
   "metadata": {},
   "source": [
    "## Evaluate EBM performance"
   ]
  },
  {
   "cell_type": "code",
   "execution_count": null,
   "metadata": {
    "scrolled": false
   },
   "outputs": [],
   "source": [
    "from interpret.perf import ROC\n",
    "\n",
    "ebm_perf = ROC(ebm.predict_proba).explain_perf(X_test, y_test, name='EBM')\n",
    "show(ebm_perf)"
   ]
  },
  {
   "cell_type": "markdown",
   "metadata": {},
   "source": [
    "## Let's test out a few other Explainable Models"
   ]
  },
  {
   "cell_type": "code",
   "execution_count": null,
   "metadata": {
    "scrolled": true
   },
   "outputs": [],
   "source": [
    "from interpret.glassbox import LogisticRegression, ClassificationTree\n",
    "\n",
    "# We have to transform categorical variables to use Logistic Regression and Decision Tree\n",
    "X_enc = pd.get_dummies(X, prefix_sep='.')\n",
    "feature_names = list(X_enc.columns)\n",
    "X_train_enc, X_test_enc, y_train, y_test = train_test_split(X_enc, y, test_size=0.20, random_state=seed)\n",
    "\n",
    "lr = LogisticRegression(random_state=seed, feature_names=feature_names, penalty='l1', solver='liblinear')\n",
    "lr.fit(X_train_enc, y_train)\n",
    "\n",
    "tree = ClassificationTree()\n",
    "tree.fit(X_train_enc, y_train)"
   ]
  },
  {
   "cell_type": "markdown",
   "metadata": {},
   "source": [
    "## Compare performance using the Dashboard"
   ]
  },
  {
   "cell_type": "code",
   "execution_count": null,
   "metadata": {
    "scrolled": false
   },
   "outputs": [],
   "source": [
    "lr_perf = ROC(lr.predict_proba).explain_perf(X_test_enc, y_test, name='Logistic Regression')\n",
    "tree_perf = ROC(tree.predict_proba).explain_perf(X_test_enc, y_test, name='Classification Tree')\n",
    "\n",
    "show(lr_perf)\n",
    "show(tree_perf)\n",
    "show(ebm_perf)"
   ]
  },
  {
   "cell_type": "markdown",
   "metadata": {},
   "source": [
    "## Glassbox: All of our models have global and local explanations"
   ]
  },
  {
   "cell_type": "code",
   "execution_count": null,
   "metadata": {
    "scrolled": false
   },
   "outputs": [],
   "source": [
    "lr_global = lr.explain_global(name='Logistic Regression')\n",
    "tree_global = tree.explain_global(name='Classification Tree')\n",
    "\n",
    "show(lr_global)\n",
    "show(tree_global)\n",
    "show(ebm_global)"
   ]
  },
  {
   "cell_type": "markdown",
   "metadata": {},
   "source": [
    "## Dashboard: look at everything at once"
   ]
  },
  {
   "cell_type": "code",
   "execution_count": null,
   "metadata": {
    "pycharm": {
     "name": "#%%\n"
    }
   },
   "outputs": [],
   "source": [
    "# Do everything in one shot with the InterpretML Dashboard by passing a list into show\n",
    "\n",
    "show([hist, lr_global, lr_perf, tree_global, tree_perf, ebm_global, ebm_perf], share_tables=True)"
   ]
  }
 ],
 "metadata": {
  "kernelspec": {
   "display_name": "Python 3",
   "language": "python",
   "name": "python3"
  },
  "language_info": {
   "codemirror_mode": {
    "name": "ipython",
    "version": 3
   },
   "file_extension": ".py",
   "mimetype": "text/x-python",
   "name": "python",
   "nbconvert_exporter": "python",
   "pygments_lexer": "ipython3",
   "version": "3.6.10"
  }
 },
 "nbformat": 4,
 "nbformat_minor": 2
}
